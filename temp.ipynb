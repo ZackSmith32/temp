{
 "cells": [
  {
   "cell_type": "code",
   "execution_count": 1,
   "metadata": {},
   "outputs": [],
   "source": [
    "import pandas as pd\n",
    "import matplotlib.pyplot as plt\n",
    "import seaborn as sns\n",
    "import numpy as np\n",
    "%matplotlib inline"
   ]
  },
  {
   "cell_type": "code",
   "execution_count": 2,
   "metadata": {},
   "outputs": [
    {
     "data": {
      "application/javascript": [
       "IPython.OutputArea.prototype._should_scroll = function(lines) {\n",
       "    return false;\n",
       "}"
      ],
      "text/plain": [
       "<IPython.core.display.Javascript object>"
      ]
     },
     "metadata": {},
     "output_type": "display_data"
    }
   ],
   "source": [
    "%%javascript\n",
    "IPython.OutputArea.prototype._should_scroll = function(lines) {\n",
    "    return false;\n",
    "}"
   ]
  },
  {
   "cell_type": "markdown",
   "metadata": {},
   "source": [
    "# Investigating Profile Views\n",
    "\n",
    "\n",
    "- 1. Compare metrics across dimensions\n",
    "    - Metrics\n",
    "        - users : all user profiles\n",
    "        - in_views : profiles viewed from internal sources\n",
    "        - ex_views : profiles viewed from external sources\n",
    "        - viewr : internal users who viewed another users profile\n",
    "    - Dimensions\n",
    "        - age\n",
    "        - region\n",
    "        \n",
    "- 2. Total views\n",
    "    - Rank of profiles by internal and external views\n",
    "    - Percent of views that are external vs internal"
   ]
  },
  {
   "cell_type": "markdown",
   "metadata": {},
   "source": [
    "## Data Prep"
   ]
  },
  {
   "cell_type": "code",
   "execution_count": 3,
   "metadata": {},
   "outputs": [],
   "source": [
    "# Load data\n",
    "\n",
    "df = pd.read_csv('./output/all_data.csv')"
   ]
  },
  {
   "cell_type": "code",
   "execution_count": 4,
   "metadata": {},
   "outputs": [],
   "source": [
    "# Age grouping function\n",
    "\n",
    "def age_group(row):\n",
    "    if row['age'] >= 80:\n",
    "        return \"80+\"\n",
    "    if row['age'] >= 70:\n",
    "        return \"70-79\"\n",
    "    if row['age'] >= 60:\n",
    "        return \"60-69\"\n",
    "    if row['age'] >= 50:\n",
    "        return \"50-59\"\n",
    "    if row['age'] >= 40:\n",
    "        return \"40-49\"\n",
    "    if row['age'] >= 30:\n",
    "        return \"30-39\"\n",
    "    return \"20-29\""
   ]
  },
  {
   "cell_type": "code",
   "execution_count": 5,
   "metadata": {},
   "outputs": [],
   "source": [
    "# Create age_group column and users column for count of users\n",
    "\n",
    "df['age_group'] = df.apply(age_group, axis=1)\n",
    "df['users'] = 1"
   ]
  },
  {
   "cell_type": "code",
   "execution_count": 6,
   "metadata": {},
   "outputs": [
    {
     "name": "stdout",
     "output_type": "stream",
     "text": [
      "<class 'pandas.core.frame.DataFrame'>\n",
      "RangeIndex: 600000 entries, 0 to 599999\n",
      "Data columns (total 9 columns):\n",
      "id           600000 non-null int64\n",
      "age          600000 non-null int64\n",
      "region       600000 non-null object\n",
      "title        600000 non-null object\n",
      "ex_views     600000 non-null float64\n",
      "in_views     600000 non-null float64\n",
      "viewer       600000 non-null float64\n",
      "age_group    600000 non-null object\n",
      "users        600000 non-null int64\n",
      "dtypes: float64(3), int64(3), object(3)\n",
      "memory usage: 41.2+ MB\n"
     ]
    }
   ],
   "source": [
    "# Change null values to 0\n",
    "\n",
    "df.fillna(0, inplace=True)\n",
    "df.drop(df.age == 0)\n",
    "df.info();"
   ]
  },
  {
   "cell_type": "markdown",
   "metadata": {},
   "source": [
    "## 1. Compare Metrics Across Dimensions"
   ]
  },
  {
   "cell_type": "code",
   "execution_count": 7,
   "metadata": {},
   "outputs": [],
   "source": [
    "# Group data by age group\n",
    "\n",
    "grouped = df.drop('age', axis=1).groupby(['age_group', 'region', 'title'])\n",
    "df_data = grouped.aggregate({\n",
    "    'ex_views' : sum,\n",
    "    'in_views' : sum,\n",
    "    'viewer' : sum,\n",
    "    'users' : sum\n",
    "})"
   ]
  },
  {
   "cell_type": "code",
   "execution_count": 8,
   "metadata": {},
   "outputs": [],
   "source": [
    "# Create percent of total column for each metric\n",
    "\n",
    "df_data['users_pct'] = round(df_data.users / df_data.users.sum(), 3)\n",
    "df_data['in_views_pct'] = round(df_data.in_views / df_data.in_views.sum(), 3)\n",
    "df_data['ex_views_pct'] = round(df_data.ex_views / df_data.ex_views.sum(), 3)\n",
    "df_data['viewer_pct'] = round(df_data.viewer / df_data.viewer.sum(), 3)"
   ]
  },
  {
   "cell_type": "code",
   "execution_count": 9,
   "metadata": {},
   "outputs": [],
   "source": [
    "# Arrange data so that it can be plotted\n",
    "# Separate each metric then re-combine on axis=0 (vertically)\n",
    "\n",
    "temp = df_data.loc[:, ['in_views', 'in_views_pct']]\n",
    "temp['metric'] = 'in_views'\n",
    "temp.rename(index=str, columns={'in_views' : 'count', 'in_views_pct' : 'percent'}, inplace=True)\n",
    "df_data_plot = temp\n",
    "\n",
    "temp = df_data.loc[:, ['ex_views', 'ex_views_pct']]\n",
    "temp['metric'] = 'ex_views'\n",
    "temp.rename(index=str, columns={'ex_views' : 'count', 'ex_views_pct' : 'percent'}, inplace=True)\n",
    "df_data_plot = pd.concat([df_data_plot, temp], axis=0)\n",
    "\n",
    "temp = df_data.loc[:, ['users', 'users_pct']]\n",
    "temp['metric'] = 'users'\n",
    "temp.rename(index=str, columns={'users' : 'count', 'users_pct' : 'percent'}, inplace=True)\n",
    "df_data_plot = pd.concat([df_data_plot, temp], axis=0)\n",
    "\n",
    "temp = df_data.loc[:, ['viewer', 'viewer_pct']]\n",
    "temp['metric'] = 'viewer'\n",
    "temp.rename(index=str, columns={'viewer' : 'count', 'viewer_pct' : 'percent'}, inplace=True)\n",
    "df_data_plot = pd.concat([df_data_plot, temp], axis=0)\n",
    "\n",
    "df_data_plot.reset_index(inplace=True)"
   ]
  },
  {
   "cell_type": "markdown",
   "metadata": {},
   "source": [
    "#### Age Group"
   ]
  },
  {
   "cell_type": "code",
   "execution_count": 10,
   "metadata": {
    "scrolled": true
   },
   "outputs": [
    {
     "data": {
      "text/html": [
       "<div>\n",
       "<style>\n",
       "    .dataframe thead tr:only-child th {\n",
       "        text-align: right;\n",
       "    }\n",
       "\n",
       "    .dataframe thead th {\n",
       "        text-align: left;\n",
       "    }\n",
       "\n",
       "    .dataframe tbody tr th {\n",
       "        vertical-align: top;\n",
       "    }\n",
       "</style>\n",
       "<table border=\"1\" class=\"dataframe\">\n",
       "  <thead>\n",
       "    <tr>\n",
       "      <th></th>\n",
       "      <th colspan=\"5\" halign=\"left\">percent</th>\n",
       "    </tr>\n",
       "    <tr>\n",
       "      <th>metric</th>\n",
       "      <th>ex_views</th>\n",
       "      <th>in_views</th>\n",
       "      <th>users</th>\n",
       "      <th>viewer</th>\n",
       "      <th>All</th>\n",
       "    </tr>\n",
       "    <tr>\n",
       "      <th>age_group</th>\n",
       "      <th></th>\n",
       "      <th></th>\n",
       "      <th></th>\n",
       "      <th></th>\n",
       "      <th></th>\n",
       "    </tr>\n",
       "  </thead>\n",
       "  <tbody>\n",
       "    <tr>\n",
       "      <th>20-29</th>\n",
       "      <td>0.475</td>\n",
       "      <td>0.507</td>\n",
       "      <td>0.479</td>\n",
       "      <td>0.480</td>\n",
       "      <td>1.941</td>\n",
       "    </tr>\n",
       "    <tr>\n",
       "      <th>30-39</th>\n",
       "      <td>0.207</td>\n",
       "      <td>0.179</td>\n",
       "      <td>0.205</td>\n",
       "      <td>0.206</td>\n",
       "      <td>0.797</td>\n",
       "    </tr>\n",
       "    <tr>\n",
       "      <th>40-49</th>\n",
       "      <td>0.079</td>\n",
       "      <td>0.075</td>\n",
       "      <td>0.077</td>\n",
       "      <td>0.077</td>\n",
       "      <td>0.308</td>\n",
       "    </tr>\n",
       "    <tr>\n",
       "      <th>50-59</th>\n",
       "      <td>0.050</td>\n",
       "      <td>0.041</td>\n",
       "      <td>0.049</td>\n",
       "      <td>0.053</td>\n",
       "      <td>0.193</td>\n",
       "    </tr>\n",
       "    <tr>\n",
       "      <th>60-69</th>\n",
       "      <td>0.154</td>\n",
       "      <td>0.164</td>\n",
       "      <td>0.156</td>\n",
       "      <td>0.154</td>\n",
       "      <td>0.628</td>\n",
       "    </tr>\n",
       "    <tr>\n",
       "      <th>70-79</th>\n",
       "      <td>0.018</td>\n",
       "      <td>0.017</td>\n",
       "      <td>0.018</td>\n",
       "      <td>0.017</td>\n",
       "      <td>0.070</td>\n",
       "    </tr>\n",
       "    <tr>\n",
       "      <th>80+</th>\n",
       "      <td>0.010</td>\n",
       "      <td>0.005</td>\n",
       "      <td>0.009</td>\n",
       "      <td>0.008</td>\n",
       "      <td>0.032</td>\n",
       "    </tr>\n",
       "    <tr>\n",
       "      <th>All</th>\n",
       "      <td>0.993</td>\n",
       "      <td>0.988</td>\n",
       "      <td>0.993</td>\n",
       "      <td>0.995</td>\n",
       "      <td>3.969</td>\n",
       "    </tr>\n",
       "  </tbody>\n",
       "</table>\n",
       "</div>"
      ],
      "text/plain": [
       "           percent                              \n",
       "metric    ex_views in_views  users viewer    All\n",
       "age_group                                       \n",
       "20-29        0.475    0.507  0.479  0.480  1.941\n",
       "30-39        0.207    0.179  0.205  0.206  0.797\n",
       "40-49        0.079    0.075  0.077  0.077  0.308\n",
       "50-59        0.050    0.041  0.049  0.053  0.193\n",
       "60-69        0.154    0.164  0.156  0.154  0.628\n",
       "70-79        0.018    0.017  0.018  0.017  0.070\n",
       "80+          0.010    0.005  0.009  0.008  0.032\n",
       "All          0.993    0.988  0.993  0.995  3.969"
      ]
     },
     "execution_count": 10,
     "metadata": {},
     "output_type": "execute_result"
    },
    {
     "data": {
      "image/png": "[encoded data removed]",
      "text/plain": [
       "<matplotlib.figure.Figure at 0x109b5d438>"
      ]
     },
     "metadata": {},
     "output_type": "display_data"
    }
   ],
   "source": [
    "# Age Group plot\n",
    "\n",
    "dims = (11, 6)\n",
    "fig, ax = plt.subplots(figsize=dims)\n",
    "\n",
    "df_age_group = df_data_plot.loc[:, ['percent', 'metric', 'age_group']]\n",
    "\n",
    "sns.barplot(x=\"age_group\", y='percent', hue='metric', data=df_age_group, estimator=sum, ci=None).set_title(\n",
    "        \"Age Group : Users, Internal Views, External Views, Viewers\");\n",
    "\n",
    "pd.pivot_table(df_age_group,index=[\"age_group\"],values=[\"percent\"],\n",
    "               columns=[\"metric\"],fill_value=0, margins=True, aggfunc=sum)"
   ]
  },
  {
   "cell_type": "markdown",
   "metadata": {},
   "source": [
    "#### Region"
   ]
  },
  {
   "cell_type": "code",
   "execution_count": 11,
   "metadata": {},
   "outputs": [
    {
     "data": {
      "text/html": [
       "<div>\n",
       "<style>\n",
       "    .dataframe thead tr:only-child th {\n",
       "        text-align: right;\n",
       "    }\n",
       "\n",
       "    .dataframe thead th {\n",
       "        text-align: left;\n",
       "    }\n",
       "\n",
       "    .dataframe tbody tr th {\n",
       "        vertical-align: top;\n",
       "    }\n",
       "</style>\n",
       "<table border=\"1\" class=\"dataframe\">\n",
       "  <thead>\n",
       "    <tr>\n",
       "      <th></th>\n",
       "      <th colspan=\"5\" halign=\"left\">percent</th>\n",
       "    </tr>\n",
       "    <tr>\n",
       "      <th>metric</th>\n",
       "      <th>ex_views</th>\n",
       "      <th>in_views</th>\n",
       "      <th>users</th>\n",
       "      <th>viewer</th>\n",
       "      <th>All</th>\n",
       "    </tr>\n",
       "    <tr>\n",
       "      <th>region</th>\n",
       "      <th></th>\n",
       "      <th></th>\n",
       "      <th></th>\n",
       "      <th></th>\n",
       "      <th></th>\n",
       "    </tr>\n",
       "  </thead>\n",
       "  <tbody>\n",
       "    <tr>\n",
       "      <th>Midwest</th>\n",
       "      <td>0.216</td>\n",
       "      <td>0.267</td>\n",
       "      <td>0.216</td>\n",
       "      <td>0.218</td>\n",
       "      <td>0.917</td>\n",
       "    </tr>\n",
       "    <tr>\n",
       "      <th>Northeast</th>\n",
       "      <td>0.249</td>\n",
       "      <td>0.255</td>\n",
       "      <td>0.249</td>\n",
       "      <td>0.247</td>\n",
       "      <td>1.000</td>\n",
       "    </tr>\n",
       "    <tr>\n",
       "      <th>Other</th>\n",
       "      <td>0.110</td>\n",
       "      <td>0.073</td>\n",
       "      <td>0.109</td>\n",
       "      <td>0.109</td>\n",
       "      <td>0.401</td>\n",
       "    </tr>\n",
       "    <tr>\n",
       "      <th>South</th>\n",
       "      <td>0.193</td>\n",
       "      <td>0.213</td>\n",
       "      <td>0.188</td>\n",
       "      <td>0.195</td>\n",
       "      <td>0.789</td>\n",
       "    </tr>\n",
       "    <tr>\n",
       "      <th>West</th>\n",
       "      <td>0.225</td>\n",
       "      <td>0.180</td>\n",
       "      <td>0.231</td>\n",
       "      <td>0.226</td>\n",
       "      <td>0.862</td>\n",
       "    </tr>\n",
       "    <tr>\n",
       "      <th>All</th>\n",
       "      <td>0.993</td>\n",
       "      <td>0.988</td>\n",
       "      <td>0.993</td>\n",
       "      <td>0.995</td>\n",
       "      <td>3.969</td>\n",
       "    </tr>\n",
       "  </tbody>\n",
       "</table>\n",
       "</div>"
      ],
      "text/plain": [
       "           percent                              \n",
       "metric    ex_views in_views  users viewer    All\n",
       "region                                          \n",
       "Midwest      0.216    0.267  0.216  0.218  0.917\n",
       "Northeast    0.249    0.255  0.249  0.247  1.000\n",
       "Other        0.110    0.073  0.109  0.109  0.401\n",
       "South        0.193    0.213  0.188  0.195  0.789\n",
       "West         0.225    0.180  0.231  0.226  0.862\n",
       "All          0.993    0.988  0.993  0.995  3.969"
      ]
     },
     "execution_count": 11,
     "metadata": {},
     "output_type": "execute_result"
    },
    {
     "data": {
      "image/png": "[encoded data removed]",
      "text/plain": [
       "<matplotlib.figure.Figure at 0x1138e75c0>"
      ]
     },
     "metadata": {},
     "output_type": "display_data"
    }
   ],
   "source": [
    "# Region plot\n",
    "\n",
    "dims = (11, 6)\n",
    "fig, ax = plt.subplots(figsize=dims)\n",
    "\n",
    "df_region = df_data_plot.loc[:, ['percent', 'metric', 'region']]\n",
    "\n",
    "sns.barplot(x=\"region\", y='percent', hue='metric', data=df_region, estimator=sum, ci=None).set_title(\n",
    "        \"Region : Users, Internal Views, External Views, Viewers\");\n",
    "\n",
    "pd.pivot_table(df_region,index=[\"region\"],values=[\"percent\"],\n",
    "               columns=[\"metric\"],fill_value=0, margins=True, aggfunc=sum)"
   ]
  },
  {
   "cell_type": "markdown",
   "metadata": {},
   "source": [
    "#### Title"
   ]
  },
  {
   "cell_type": "code",
   "execution_count": 12,
   "metadata": {},
   "outputs": [
    {
     "data": {
      "text/html": [
       "<div>\n",
       "<style>\n",
       "    .dataframe thead tr:only-child th {\n",
       "        text-align: right;\n",
       "    }\n",
       "\n",
       "    .dataframe thead th {\n",
       "        text-align: left;\n",
       "    }\n",
       "\n",
       "    .dataframe tbody tr th {\n",
       "        vertical-align: top;\n",
       "    }\n",
       "</style>\n",
       "<table border=\"1\" class=\"dataframe\">\n",
       "  <thead>\n",
       "    <tr>\n",
       "      <th></th>\n",
       "      <th colspan=\"5\" halign=\"left\">percent</th>\n",
       "    </tr>\n",
       "    <tr>\n",
       "      <th>metric</th>\n",
       "      <th>ex_views</th>\n",
       "      <th>in_views</th>\n",
       "      <th>users</th>\n",
       "      <th>viewer</th>\n",
       "      <th>All</th>\n",
       "    </tr>\n",
       "    <tr>\n",
       "      <th>title</th>\n",
       "      <th></th>\n",
       "      <th></th>\n",
       "      <th></th>\n",
       "      <th></th>\n",
       "      <th></th>\n",
       "    </tr>\n",
       "  </thead>\n",
       "  <tbody>\n",
       "    <tr>\n",
       "      <th>Assistant professor</th>\n",
       "      <td>0.083</td>\n",
       "      <td>0.066</td>\n",
       "      <td>0.066</td>\n",
       "      <td>0.069</td>\n",
       "      <td>0.284</td>\n",
       "    </tr>\n",
       "    <tr>\n",
       "      <th>Full professor</th>\n",
       "      <td>0.044</td>\n",
       "      <td>0.397</td>\n",
       "      <td>0.029</td>\n",
       "      <td>0.027</td>\n",
       "      <td>0.497</td>\n",
       "    </tr>\n",
       "    <tr>\n",
       "      <th>Other</th>\n",
       "      <td>0.111</td>\n",
       "      <td>0.064</td>\n",
       "      <td>0.117</td>\n",
       "      <td>0.123</td>\n",
       "      <td>0.415</td>\n",
       "    </tr>\n",
       "    <tr>\n",
       "      <th>Postdoctoral assistant</th>\n",
       "      <td>0.310</td>\n",
       "      <td>0.194</td>\n",
       "      <td>0.324</td>\n",
       "      <td>0.326</td>\n",
       "      <td>1.154</td>\n",
       "    </tr>\n",
       "    <tr>\n",
       "      <th>Student</th>\n",
       "      <td>0.445</td>\n",
       "      <td>0.267</td>\n",
       "      <td>0.457</td>\n",
       "      <td>0.450</td>\n",
       "      <td>1.619</td>\n",
       "    </tr>\n",
       "    <tr>\n",
       "      <th>All</th>\n",
       "      <td>0.993</td>\n",
       "      <td>0.988</td>\n",
       "      <td>0.993</td>\n",
       "      <td>0.995</td>\n",
       "      <td>3.969</td>\n",
       "    </tr>\n",
       "  </tbody>\n",
       "</table>\n",
       "</div>"
      ],
      "text/plain": [
       "                        percent                              \n",
       "metric                 ex_views in_views  users viewer    All\n",
       "title                                                        \n",
       "Assistant professor       0.083    0.066  0.066  0.069  0.284\n",
       "Full professor            0.044    0.397  0.029  0.027  0.497\n",
       "Other                     0.111    0.064  0.117  0.123  0.415\n",
       "Postdoctoral assistant    0.310    0.194  0.324  0.326  1.154\n",
       "Student                   0.445    0.267  0.457  0.450  1.619\n",
       "All                       0.993    0.988  0.993  0.995  3.969"
      ]
     },
     "execution_count": 12,
     "metadata": {},
     "output_type": "execute_result"
    },
    {
     "data": {
      "image/png": "[encoded data removed]",
      "text/plain": [
       "<matplotlib.figure.Figure at 0x10e044f28>"
      ]
     },
     "metadata": {},
     "output_type": "display_data"
    }
   ],
   "source": [
    "# Title plot\n",
    "\n",
    "dims = (11, 6)\n",
    "fig, ax = plt.subplots(figsize=dims)\n",
    "\n",
    "df_title = df_data_plot.loc[:, ['percent', 'metric', 'title']]\n",
    "\n",
    "sns.barplot(x='title', y='percent', hue='metric', data=df_title, estimator=sum, ci=None).set_title(\n",
    "    \"Title : Users, Internal Views, External Views, Viewers\");\n",
    "\n",
    "pd.pivot_table(df_title,index=[\"title\"],values=[\"percent\"],\n",
    "               columns=[\"metric\"],fill_value=0, margins=True, aggfunc=sum)"
   ]
  },
  {
   "cell_type": "markdown",
   "metadata": {},
   "source": [
    "#### Viewed profile segmentation compared to population segmentation\n",
    "- Region and Age do not have a large impact on which profiles people view, wheather coming from internal or external\n",
    "- Full professors get more views per capita than any other title"
   ]
  },
  {
   "cell_type": "markdown",
   "metadata": {},
   "source": [
    "## 2. Rank of profiles by views, internal and external"
   ]
  },
  {
   "cell_type": "code",
   "execution_count": 13,
   "metadata": {},
   "outputs": [],
   "source": [
    "temp = df.loc[: , ['id', 'in_views', 'ex_views']].groupby('id')\n",
    "df_rank = temp.aggregate(sum)"
   ]
  },
  {
   "cell_type": "markdown",
   "metadata": {},
   "source": [
    "### Profile rank by internal views"
   ]
  },
  {
   "cell_type": "code",
   "execution_count": 14,
   "metadata": {},
   "outputs": [
    {
     "data": {
      "text/html": [
       "<div>\n",
       "<style>\n",
       "    .dataframe thead tr:only-child th {\n",
       "        text-align: right;\n",
       "    }\n",
       "\n",
       "    .dataframe thead th {\n",
       "        text-align: left;\n",
       "    }\n",
       "\n",
       "    .dataframe tbody tr th {\n",
       "        vertical-align: top;\n",
       "    }\n",
       "</style>\n",
       "<table border=\"1\" class=\"dataframe\">\n",
       "  <thead>\n",
       "    <tr style=\"text-align: right;\">\n",
       "      <th></th>\n",
       "      <th>in_views</th>\n",
       "      <th>ex_views</th>\n",
       "    </tr>\n",
       "    <tr>\n",
       "      <th>id</th>\n",
       "      <th></th>\n",
       "      <th></th>\n",
       "    </tr>\n",
       "  </thead>\n",
       "  <tbody>\n",
       "    <tr>\n",
       "      <th>1740253</th>\n",
       "      <td>406.0</td>\n",
       "      <td>0.0</td>\n",
       "    </tr>\n",
       "    <tr>\n",
       "      <th>2185215</th>\n",
       "      <td>383.0</td>\n",
       "      <td>2.0</td>\n",
       "    </tr>\n",
       "    <tr>\n",
       "      <th>2632343</th>\n",
       "      <td>180.0</td>\n",
       "      <td>0.0</td>\n",
       "    </tr>\n",
       "    <tr>\n",
       "      <th>1287442</th>\n",
       "      <td>88.0</td>\n",
       "      <td>0.0</td>\n",
       "    </tr>\n",
       "    <tr>\n",
       "      <th>3086119</th>\n",
       "      <td>88.0</td>\n",
       "      <td>0.0</td>\n",
       "    </tr>\n",
       "    <tr>\n",
       "      <th>2460133</th>\n",
       "      <td>82.0</td>\n",
       "      <td>0.0</td>\n",
       "    </tr>\n",
       "    <tr>\n",
       "      <th>979614</th>\n",
       "      <td>68.0</td>\n",
       "      <td>0.0</td>\n",
       "    </tr>\n",
       "    <tr>\n",
       "      <th>218859</th>\n",
       "      <td>67.0</td>\n",
       "      <td>1.0</td>\n",
       "    </tr>\n",
       "    <tr>\n",
       "      <th>314218</th>\n",
       "      <td>61.0</td>\n",
       "      <td>0.0</td>\n",
       "    </tr>\n",
       "    <tr>\n",
       "      <th>2864377</th>\n",
       "      <td>47.0</td>\n",
       "      <td>3.0</td>\n",
       "    </tr>\n",
       "  </tbody>\n",
       "</table>\n",
       "</div>"
      ],
      "text/plain": [
       "         in_views  ex_views\n",
       "id                         \n",
       "1740253     406.0       0.0\n",
       "2185215     383.0       2.0\n",
       "2632343     180.0       0.0\n",
       "1287442      88.0       0.0\n",
       "3086119      88.0       0.0\n",
       "2460133      82.0       0.0\n",
       "979614       68.0       0.0\n",
       "218859       67.0       1.0\n",
       "314218       61.0       0.0\n",
       "2864377      47.0       3.0"
      ]
     },
     "execution_count": 14,
     "metadata": {},
     "output_type": "execute_result"
    }
   ],
   "source": [
    "# Internal views and external views per profile sorted by internal views\n",
    "\n",
    "df_rank.sort_values(['in_views'], ascending=False).head(10)"
   ]
  },
  {
   "cell_type": "markdown",
   "metadata": {},
   "source": [
    "### Profile rank by external views"
   ]
  },
  {
   "cell_type": "code",
   "execution_count": 15,
   "metadata": {},
   "outputs": [
    {
     "data": {
      "text/html": [
       "<div>\n",
       "<style>\n",
       "    .dataframe thead tr:only-child th {\n",
       "        text-align: right;\n",
       "    }\n",
       "\n",
       "    .dataframe thead th {\n",
       "        text-align: left;\n",
       "    }\n",
       "\n",
       "    .dataframe tbody tr th {\n",
       "        vertical-align: top;\n",
       "    }\n",
       "</style>\n",
       "<table border=\"1\" class=\"dataframe\">\n",
       "  <thead>\n",
       "    <tr style=\"text-align: right;\">\n",
       "      <th></th>\n",
       "      <th>in_views</th>\n",
       "      <th>ex_views</th>\n",
       "    </tr>\n",
       "    <tr>\n",
       "      <th>id</th>\n",
       "      <th></th>\n",
       "      <th></th>\n",
       "    </tr>\n",
       "  </thead>\n",
       "  <tbody>\n",
       "    <tr>\n",
       "      <th>3172400</th>\n",
       "      <td>0.0</td>\n",
       "      <td>1124.0</td>\n",
       "    </tr>\n",
       "    <tr>\n",
       "      <th>2871984</th>\n",
       "      <td>0.0</td>\n",
       "      <td>1124.0</td>\n",
       "    </tr>\n",
       "    <tr>\n",
       "      <th>3197557</th>\n",
       "      <td>0.0</td>\n",
       "      <td>764.0</td>\n",
       "    </tr>\n",
       "    <tr>\n",
       "      <th>3766973</th>\n",
       "      <td>0.0</td>\n",
       "      <td>506.0</td>\n",
       "    </tr>\n",
       "    <tr>\n",
       "      <th>2960427</th>\n",
       "      <td>0.0</td>\n",
       "      <td>496.0</td>\n",
       "    </tr>\n",
       "    <tr>\n",
       "      <th>2619727</th>\n",
       "      <td>0.0</td>\n",
       "      <td>431.0</td>\n",
       "    </tr>\n",
       "    <tr>\n",
       "      <th>1933239</th>\n",
       "      <td>0.0</td>\n",
       "      <td>428.0</td>\n",
       "    </tr>\n",
       "    <tr>\n",
       "      <th>2644348</th>\n",
       "      <td>0.0</td>\n",
       "      <td>399.0</td>\n",
       "    </tr>\n",
       "    <tr>\n",
       "      <th>2297959</th>\n",
       "      <td>0.0</td>\n",
       "      <td>373.0</td>\n",
       "    </tr>\n",
       "    <tr>\n",
       "      <th>999089</th>\n",
       "      <td>0.0</td>\n",
       "      <td>367.0</td>\n",
       "    </tr>\n",
       "  </tbody>\n",
       "</table>\n",
       "</div>"
      ],
      "text/plain": [
       "         in_views  ex_views\n",
       "id                         \n",
       "3172400       0.0    1124.0\n",
       "2871984       0.0    1124.0\n",
       "3197557       0.0     764.0\n",
       "3766973       0.0     506.0\n",
       "2960427       0.0     496.0\n",
       "2619727       0.0     431.0\n",
       "1933239       0.0     428.0\n",
       "2644348       0.0     399.0\n",
       "2297959       0.0     373.0\n",
       "999089        0.0     367.0"
      ]
     },
     "execution_count": 15,
     "metadata": {},
     "output_type": "execute_result"
    }
   ],
   "source": [
    "# Internal views and external views per profile sorted by external views\n",
    "\n",
    "df_rank.sort_values(['ex_views'], ascending=False).head(10)"
   ]
  },
  {
   "cell_type": "markdown",
   "metadata": {},
   "source": [
    "### View totals"
   ]
  },
  {
   "cell_type": "code",
   "execution_count": 23,
   "metadata": {},
   "outputs": [
    {
     "name": "stdout",
     "output_type": "stream",
     "text": [
      "total count:\n",
      "internal views = 10806\n",
      "external views = 975599\n",
      "\n",
      "percent of total views:\n",
      "internal = 1%\n",
      "external = 98%\n",
      "\n",
      "Count of profiles : 600000\n",
      "Count of viewed profiles (internal or external) : 252192\n",
      "Percent of profiles viewed (internal or external : 42%)\n"
     ]
    }
   ],
   "source": [
    "# Internal view count vs external view count\n",
    "\n",
    "internal_views = sum(df_rank['in_views'])\n",
    "external_views = sum(df_rank['ex_views'])\n",
    "view_total = internal_views + external_views\n",
    "\n",
    "print('total count:\\ninternal views = {}\\nexternal views = {}'.format(\n",
    "    int(internal_views), int(external_views)))\n",
    "print()\n",
    "print(\"percent of total views:\\ninternal = {}%\\nexternal = {}%\".format(\n",
    "    int((internal_views / view_total) * 100), int((external_views / view_total) * 100)))\n",
    "print()\n",
    "profiles = df.users.sum()\n",
    "viewed_profiles = df[(df['in_views'] != 0) | (df['ex_views'] != 0)]\n",
    "viewed_profiles_count = len(viewed_profiles)\n",
    "print(\"Count of profiles : {}\".format(profiles))\n",
    "print(\"Count of viewed profiles (internal or external) : {}\".format(viewed_profiles_count))\n",
    "print(\"Percent of profiles viewed (internal or external : {}%)\".format(int(viewed_profiles_count/profiles*100)))"
   ]
  },
  {
   "cell_type": "markdown",
   "metadata": {},
   "source": [
    "# Conclusion\n",
    "### Understand how much web traffic user profiles are receiving and from where?\n",
    "#### Examining internal/external views across 'age_group', 'region', and 'title' compared to population\n",
    "    - Profiles are viewed proportionate to the distribution of all profiles\n",
    "        - E.x.: ~50% of the user profiles are age group 20-29 simillarly ~50% of all internal profile views are age 20-29.  So this age group is performing as expected, not over or under.\n",
    "        - This trend is generally true across age group and region for internal and external views\n",
    "    - Profiles with the title 'professor' get more views than the average profile\n",
    "    - Conclusion: Title affects how much a profile is viewed, but age and region do not.\n",
    "   \n",
    "#### Examining total views\n",
    "    - 58% of profiles have not been viewed internally or externally (some might be inactive)\n",
    "    - External views make up 98% of all views\n",
    "\n",
    "    \n",
    "#### Recommendation\n",
    "    - Grow internal views : right now it is a very small percentage of total views, and increasing this will strengthen users' engagement and lenthen their lifetime on the platform\n",
    "        - Market to professors becuse they drive more internal views\n",
    "        - Implement new features such as friend recommendattions or gamification of platform engagement\n",
    "        "
   ]
  },
  {
   "cell_type": "code",
   "execution_count": null,
   "metadata": {},
   "outputs": [],
   "source": []
  },
  {
   "cell_type": "code",
   "execution_count": null,
   "metadata": {},
   "outputs": [],
   "source": []
  }
 ],
 "metadata": {
  "kernelspec": {
   "display_name": "Python 3",
   "language": "python",
   "name": "python3"
  },
  "language_info": {
   "codemirror_mode": {
    "name": "ipython",
    "version": 3
   },
   "file_extension": ".py",
   "mimetype": "text/x-python",
   "name": "python",
   "nbconvert_exporter": "python",
   "pygments_lexer": "ipython3",
   "version": "3.4.3"
  }
 },
 "nbformat": 4,
 "nbformat_minor": 2
}
