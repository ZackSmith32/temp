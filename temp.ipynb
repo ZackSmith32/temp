{
 "cells": [
  {
   "cell_type": "code",
   "execution_count": 353,
   "metadata": {},
   "outputs": [],
   "source": [
    "import pandas as pd\n",
    "import matplotlib.pyplot as plt\n",
    "import seaborn as sns\n",
    "import numpy as np\n",
    "%matplotlib inline"
   ]
  },
  {
   "cell_type": "code",
   "execution_count": 359,
   "metadata": {},
   "outputs": [
    {
     "data": {
      "application/javascript": [
       "IPython.OutputArea.prototype._should_scroll = function(lines) {\n",
       "    return false;\n",
       "}"
      ],
      "text/plain": [
       "<IPython.core.display.Javascript object>"
      ]
     },
     "metadata": {},
     "output_type": "display_data"
    }
   ],
   "source": [
    "%%javascript\n",
    "IPython.OutputArea.prototype._should_scroll = function(lines) {\n",
    "    return false;\n",
    "}"
   ]
  },
  {
   "cell_type": "markdown",
   "metadata": {},
   "source": [
    "# Investigating Profile Views\n",
    "1. Age : compare viewed profiles/viewers of profiles/all users, on age dimension\n",
    "2. Region : compare viewed profiles/viewers of profiles/all users, on region dimension\n",
    "3. external views"
   ]
  },
  {
   "cell_type": "markdown",
   "metadata": {},
   "source": [
    "## 1. Age Comparison"
   ]
  },
  {
   "cell_type": "code",
   "execution_count": 456,
   "metadata": {},
   "outputs": [],
   "source": [
    "# All users:\n",
    "users = pd.read_csv('./output/all_users.csv')\n",
    "\n",
    "# Users who's profile was viewed\n",
    "viewed = pd.read_csv(\"./output/viewed_segmentation.csv\")\n",
    "\n",
    "# Users who viewed a profile\n",
    "viewer = pd.read_csv('./output/viewer_segmentation.csv')\n",
    "\n",
    "# Users who's profile was viewed from and external source\n",
    "ext_viewed = pd.read_csv('./output/external_profile_views.csv')\n",
    "\n",
    "users['dummy'] = 1\n",
    "viewed['dummy'] = 1\n",
    "viewer['dummy'] = 1"
   ]
  },
  {
   "cell_type": "code",
   "execution_count": 436,
   "metadata": {},
   "outputs": [],
   "source": [
    "def age_group(row):\n",
    "    if row['age'] >= 80:\n",
    "        return \"80+\"\n",
    "    if row['age'] >= 70:\n",
    "        return \"70-79\"\n",
    "    if row['age'] >= 60:\n",
    "        return \"60-69\"\n",
    "    if row['age'] >= 50:\n",
    "        return \"50-59\"\n",
    "    if row['age'] >= 40:\n",
    "        return \"40-49\"\n",
    "    if row['age'] >= 30:\n",
    "        return \"30-39\"\n",
    "    return \"20-29\""
   ]
  },
  {
   "cell_type": "code",
   "execution_count": 437,
   "metadata": {},
   "outputs": [],
   "source": [
    "# Create age_group column\n",
    "\n",
    "users['age_group'] = users.apply(age_group, axis=1)\n",
    "viewed['age_group'] = viewed.apply(age_group, axis=1)\n",
    "viewer['age_group'] = viewer.apply(age_group, axis=1)\n",
    "ext_viewed['age_group'] = ext_viewed.apply(age_group, axis=1)"
   ]
  },
  {
   "cell_type": "code",
   "execution_count": 376,
   "metadata": {},
   "outputs": [],
   "source": [
    "# Group data by age group\n",
    "\n",
    "user_age_group = users.loc[:, ['age_group', 'dummy']].groupby('age_group')\n",
    "user_age_group_df = user_age_group.aggregate(sum)\n",
    "user_age_group_df = user_age_df.reset_index()\n",
    "\n",
    "viewed_age_group = viewed.loc[:, ['age_group', 'dummy']].groupby('age_group')\n",
    "viewed_age_group_df = viewed_age_group.aggregate(sum)\n",
    "viewed_age_group_df = viewed_age_group_df.reset_index()\n",
    "\n",
    "viewer_age_group = viewer.loc[:, ['age_group', 'dummy']].groupby('age_group')\n",
    "viewer_age_group_df = viewer_age_group.aggregate(sum)\n",
    "viewer_age_group_df = viewer_age_group_df.reset_index()\n",
    "\n",
    "ext_viewed_age_group = ext_viewed.loc[:, ['age_group', 'upv']].groupby('age_group')\n",
    "ext_viewed_age_group_df = ext_viewed_age_group.aggregate(sum)\n",
    "ext_viewed_age_group_df.reset_index(inplace=True)"
   ]
  },
  {
   "cell_type": "code",
   "execution_count": 378,
   "metadata": {},
   "outputs": [],
   "source": [
    "# Creage age_group_percent column\n",
    "\n",
    "user_age_group_df['pct_of_sample'] = round(user_age_group_df.dummy / user_age_group_df.dummy.sum(), 2)\n",
    "viewed_age_group_df['pct_of_sample'] = round(viewed_age_group_df.dummy / viewed_age_group_df.dummy.sum(), 2)\n",
    "viewer_age_group_df['pct_of_sample'] = round(viewer_age_group_df.dummy / viewer_age_group_df.dummy.sum(), 2)\n",
    "ext_viewed_age_group_df['pct_of_sample'] = round(ext_viewed_age_group_df.upv / ext_viewed_age_group_df.upv.sum(), 2)"
   ]
  },
  {
   "cell_type": "code",
   "execution_count": 379,
   "metadata": {},
   "outputs": [],
   "source": [
    "# Drop dummy field\n",
    "\n",
    "user_age_group_df.drop('dummy', axis=1, inplace=True)\n",
    "viewed_age_group_df.drop('dummy', axis=1, inplace=True)\n",
    "viewer_age_group_df.drop('dummy', axis=1, inplace=True)\n",
    "ext_viewed_age_group_df.drop('upv', axis=1, inplace=True)"
   ]
  },
  {
   "cell_type": "code",
   "execution_count": 380,
   "metadata": {},
   "outputs": [],
   "source": [
    "# Add sample field, which will indicate which sample the metric comes from\n",
    "\n",
    "user_age_group_df['sample'] = 'user'\n",
    "viewed_age_group_df['sample'] = 'viewed'\n",
    "viewer_age_group_df['sample'] = 'viewer'\n",
    "ext_viewed_age_group_df['sample'] = 'ext_viewed'"
   ]
  },
  {
   "cell_type": "code",
   "execution_count": 393,
   "metadata": {},
   "outputs": [],
   "source": [
    "# Create combined DataFrame for plotting\n",
    "\n",
    "combined_age_group = pd.DataFrame(columns=['age_group', 'sample', 'pct_of_sample'])\n",
    "combined_age_group = pd.concat([combined_age_group, user_age_group_df], axis=0)\n",
    "combined_age_group = pd.concat([combined_age_group, viewed_age_group_df], axis=0)\n",
    "combined_age_group = pd.concat([combined_age_group, ext_viewed_age_group_df], axis=0)\n",
    "combined_age_group = pd.concat([combined_age_group, viewer_age_group_df], axis=0)\n",
    "combined_age_group.drop('index', inplace=True, axis=1)"
   ]
  },
  {
   "cell_type": "code",
   "execution_count": 394,
   "metadata": {
    "scrolled": true
   },
   "outputs": [
    {
     "data": {
      "text/html": [
       "<div>\n",
       "<style>\n",
       "    .dataframe thead tr:only-child th {\n",
       "        text-align: right;\n",
       "    }\n",
       "\n",
       "    .dataframe thead th {\n",
       "        text-align: left;\n",
       "    }\n",
       "\n",
       "    .dataframe tbody tr th {\n",
       "        vertical-align: top;\n",
       "    }\n",
       "</style>\n",
       "<table border=\"1\" class=\"dataframe\">\n",
       "  <thead>\n",
       "    <tr>\n",
       "      <th></th>\n",
       "      <th colspan=\"4\" halign=\"left\">pct_of_sample</th>\n",
       "    </tr>\n",
       "    <tr>\n",
       "      <th>sample</th>\n",
       "      <th>ext_viewed</th>\n",
       "      <th>user</th>\n",
       "      <th>viewed</th>\n",
       "      <th>viewer</th>\n",
       "    </tr>\n",
       "    <tr>\n",
       "      <th>age_group</th>\n",
       "      <th></th>\n",
       "      <th></th>\n",
       "      <th></th>\n",
       "      <th></th>\n",
       "    </tr>\n",
       "  </thead>\n",
       "  <tbody>\n",
       "    <tr>\n",
       "      <th>20-29</th>\n",
       "      <td>0.48</td>\n",
       "      <td>0.48</td>\n",
       "      <td>0.51</td>\n",
       "      <td>0.48</td>\n",
       "    </tr>\n",
       "    <tr>\n",
       "      <th>30-39</th>\n",
       "      <td>0.21</td>\n",
       "      <td>0.21</td>\n",
       "      <td>0.18</td>\n",
       "      <td>0.21</td>\n",
       "    </tr>\n",
       "    <tr>\n",
       "      <th>40-49</th>\n",
       "      <td>0.08</td>\n",
       "      <td>0.08</td>\n",
       "      <td>0.08</td>\n",
       "      <td>0.08</td>\n",
       "    </tr>\n",
       "    <tr>\n",
       "      <th>50-59</th>\n",
       "      <td>0.05</td>\n",
       "      <td>0.05</td>\n",
       "      <td>0.04</td>\n",
       "      <td>0.05</td>\n",
       "    </tr>\n",
       "    <tr>\n",
       "      <th>60-69</th>\n",
       "      <td>0.16</td>\n",
       "      <td>0.16</td>\n",
       "      <td>0.16</td>\n",
       "      <td>0.15</td>\n",
       "    </tr>\n",
       "    <tr>\n",
       "      <th>70-79</th>\n",
       "      <td>0.02</td>\n",
       "      <td>0.02</td>\n",
       "      <td>0.02</td>\n",
       "      <td>0.02</td>\n",
       "    </tr>\n",
       "    <tr>\n",
       "      <th>80+</th>\n",
       "      <td>0.01</td>\n",
       "      <td>0.01</td>\n",
       "      <td>0.01</td>\n",
       "      <td>0.01</td>\n",
       "    </tr>\n",
       "  </tbody>\n",
       "</table>\n",
       "</div>"
      ],
      "text/plain": [
       "          pct_of_sample                    \n",
       "sample       ext_viewed  user viewed viewer\n",
       "age_group                                  \n",
       "20-29              0.48  0.48   0.51   0.48\n",
       "30-39              0.21  0.21   0.18   0.21\n",
       "40-49              0.08  0.08   0.08   0.08\n",
       "50-59              0.05  0.05   0.04   0.05\n",
       "60-69              0.16  0.16   0.16   0.15\n",
       "70-79              0.02  0.02   0.02   0.02\n",
       "80+                0.01  0.01   0.01   0.01"
      ]
     },
     "execution_count": 394,
     "metadata": {},
     "output_type": "execute_result"
    },
    {
     "data": {
      "image/png": "[encoded data removed]",
      "text/plain": [
       "<matplotlib.figure.Figure at 0x1229292b0>"
      ]
     },
     "metadata": {},
     "output_type": "display_data"
    }
   ],
   "source": [
    "# Results for Age comparison\n",
    "\n",
    "dims = (11, 6)\n",
    "fig, ax = plt.subplots(figsize=dims)\n",
    "\n",
    "sns.barplot(x=\"age_group\", y='pct_of_sample', hue='sample', data=combined_age_group);\n",
    "pd.pivot_table(combined_age_group,index=[\"age_group\"],values=[\"pct_of_sample\"],\n",
    "               columns=[\"sample\"],fill_value=0)"
   ]
  },
  {
   "cell_type": "markdown",
   "metadata": {},
   "source": [
    "#### Distribution of ages in each sample.\n",
    "- users are skewed towards younger age groups with a spike in 60-69 group\n",
    "- profiles viewed distribution is slightly skewed younger compared to all users\n",
    "- viewers of profiles do not vary from the all users distribution\n",
    "\n",
    "\n"
   ]
  },
  {
   "cell_type": "markdown",
   "metadata": {},
   "source": [
    "# 2. Region Comparison"
   ]
  },
  {
   "cell_type": "code",
   "execution_count": 397,
   "metadata": {},
   "outputs": [],
   "source": [
    "# Group data by region\n",
    "\n",
    "user_region = users.loc[:, ['region', 'dummy']].groupby('region')\n",
    "user_region_df = user_region.aggregate(sum)\n",
    "user_region_df = user_region_df.reset_index()\n",
    "\n",
    "viewed_region = viewed.loc[:, ['region', 'dummy']].groupby('region')\n",
    "viewed_region_df = viewed_region.aggregate(sum)\n",
    "viewed_region_df = viewed_region_df.reset_index()\n",
    "\n",
    "viewer_region = viewer.loc[:, ['region', 'dummy']].groupby('region')\n",
    "viewer_region_df = viewer_region.aggregate(sum)\n",
    "viewer_region_df = viewer_region_df.reset_index()\n",
    "\n",
    "ext_viewed_region = ext_viewed.loc[:, ['region', 'upv']].groupby('region')\n",
    "ext_viewed_region_df = ext_viewed_region.aggregate(sum)\n",
    "ext_viewed_region_df.reset_index(inplace=True)"
   ]
  },
  {
   "cell_type": "code",
   "execution_count": 399,
   "metadata": {},
   "outputs": [],
   "source": [
    "# Creage percent column\n",
    "\n",
    "user_region_df['pct_of_sample'] = round(user_region_df.dummy / user_region_df.dummy.sum(), 2)\n",
    "viewed_region_df['pct_of_sample'] = round(viewed_region_df.dummy / viewed_region_df.dummy.sum(), 2)\n",
    "viewer_region_df['pct_of_sample'] = round(viewer_region_df.dummy / viewer_region_df.dummy.sum(), 2)\n",
    "ext_viewed_region_df['pct_of_sample'] = round(ext_viewed_region_df.upv / ext_viewed_region_df.upv.sum(), 2)"
   ]
  },
  {
   "cell_type": "code",
   "execution_count": 400,
   "metadata": {},
   "outputs": [],
   "source": [
    "# Add sample field, which will indicate which sample the metric comes from\n",
    "\n",
    "user_region_df['sample'] = 'user'\n",
    "viewed_region_df['sample'] = 'viewed'\n",
    "viewer_region_df['sample'] = 'viewer'\n",
    "ext_viewed_region_df['sample'] = 'ext_viewed'"
   ]
  },
  {
   "cell_type": "code",
   "execution_count": 401,
   "metadata": {},
   "outputs": [],
   "source": [
    "# Create combined DataFrame for plotting\n",
    "\n",
    "combined_region = pd.DataFrame(columns=['region', 'sample', 'pct_of_sample'])\n",
    "combined_region = pd.concat([combined_region, user_region_df], axis=0)\n",
    "combined_region = pd.concat([combined_region, viewed_region_df], axis=0)\n",
    "combined_region = pd.concat([combined_region, ext_viewed_region_df], axis=0)\n",
    "combined_region = pd.concat([combined_region, viewer_region_df], axis=0)"
   ]
  },
  {
   "cell_type": "code",
   "execution_count": 402,
   "metadata": {},
   "outputs": [
    {
     "data": {
      "text/html": [
       "<div>\n",
       "<style>\n",
       "    .dataframe thead tr:only-child th {\n",
       "        text-align: right;\n",
       "    }\n",
       "\n",
       "    .dataframe thead th {\n",
       "        text-align: left;\n",
       "    }\n",
       "\n",
       "    .dataframe tbody tr th {\n",
       "        vertical-align: top;\n",
       "    }\n",
       "</style>\n",
       "<table border=\"1\" class=\"dataframe\">\n",
       "  <thead>\n",
       "    <tr>\n",
       "      <th></th>\n",
       "      <th colspan=\"4\" halign=\"left\">pct_of_sample</th>\n",
       "    </tr>\n",
       "    <tr>\n",
       "      <th>sample</th>\n",
       "      <th>ext_viewed</th>\n",
       "      <th>user</th>\n",
       "      <th>viewed</th>\n",
       "      <th>viewer</th>\n",
       "    </tr>\n",
       "    <tr>\n",
       "      <th>region</th>\n",
       "      <th></th>\n",
       "      <th></th>\n",
       "      <th></th>\n",
       "      <th></th>\n",
       "    </tr>\n",
       "  </thead>\n",
       "  <tbody>\n",
       "    <tr>\n",
       "      <th>Midwest</th>\n",
       "      <td>0.22</td>\n",
       "      <td>0.22</td>\n",
       "      <td>0.27</td>\n",
       "      <td>0.22</td>\n",
       "    </tr>\n",
       "    <tr>\n",
       "      <th>Northeast</th>\n",
       "      <td>0.25</td>\n",
       "      <td>0.25</td>\n",
       "      <td>0.26</td>\n",
       "      <td>0.25</td>\n",
       "    </tr>\n",
       "    <tr>\n",
       "      <th>Other</th>\n",
       "      <td>0.11</td>\n",
       "      <td>0.11</td>\n",
       "      <td>0.08</td>\n",
       "      <td>0.11</td>\n",
       "    </tr>\n",
       "    <tr>\n",
       "      <th>South</th>\n",
       "      <td>0.19</td>\n",
       "      <td>0.19</td>\n",
       "      <td>0.22</td>\n",
       "      <td>0.20</td>\n",
       "    </tr>\n",
       "    <tr>\n",
       "      <th>West</th>\n",
       "      <td>0.23</td>\n",
       "      <td>0.23</td>\n",
       "      <td>0.18</td>\n",
       "      <td>0.23</td>\n",
       "    </tr>\n",
       "  </tbody>\n",
       "</table>\n",
       "</div>"
      ],
      "text/plain": [
       "          pct_of_sample                    \n",
       "sample       ext_viewed  user viewed viewer\n",
       "region                                     \n",
       "Midwest            0.22  0.22   0.27   0.22\n",
       "Northeast          0.25  0.25   0.26   0.25\n",
       "Other              0.11  0.11   0.08   0.11\n",
       "South              0.19  0.19   0.22   0.20\n",
       "West               0.23  0.23   0.18   0.23"
      ]
     },
     "execution_count": 402,
     "metadata": {},
     "output_type": "execute_result"
    },
    {
     "data": {
      "image/png": "[encoded data removed]",
      "text/plain": [
       "<matplotlib.figure.Figure at 0x124262390>"
      ]
     },
     "metadata": {},
     "output_type": "display_data"
    }
   ],
   "source": [
    "# Results for region comparison\n",
    "\n",
    "dims = (11, 7)\n",
    "fig, ax = plt.subplots(figsize=dims)\n",
    "\n",
    "sns.barplot(x=\"region\", y='pct_of_sample', hue='sample', data=combined_region);\n",
    "pd.pivot_table(combined_region, index=['region'],values=[\"pct_of_sample\"],\n",
    "               columns=[\"sample\"],fill_value=0)"
   ]
  },
  {
   "cell_type": "markdown",
   "metadata": {},
   "source": [
    "#### Distribution of regions in each sample.\n",
    "- viewed profiles are distributed across region differently than the sample\n",
    "    - this suggests that profile region influences how often it is viewed\n",
    "    - additional significance testing is needed to draw conclusions\n",
    "    - if these observations are significant, I would want to gain a better understanding of why region has this affect\n",
    "- other samples are distributed the same as all users\n"
   ]
  },
  {
   "cell_type": "markdown",
   "metadata": {},
   "source": [
    "## 3. Rank of profiles by views, internal and external"
   ]
  },
  {
   "cell_type": "code",
   "execution_count": 459,
   "metadata": {},
   "outputs": [],
   "source": [
    "# Group viewed table so that each user_id corresponds to a count of views\n",
    "\n",
    "viewed_grouped = viewed.groupby('viewed_user_id')\n",
    "viewed_id_df = viewed_grouped.aggregate(sum)\n",
    "viewed_id_df.reset_index(inplace=True)"
   ]
  },
  {
   "cell_type": "code",
   "execution_count": 461,
   "metadata": {},
   "outputs": [],
   "source": [
    "# Rename columns to make merging easier\n",
    "\n",
    "viewed_id_df.rename(index=str, columns={'viewed_user_id': 'merge_id'}, inplace=True)\n",
    "ext_viewed.rename(index=str, columns={'id':'merge_id'}, inplace=True)"
   ]
  },
  {
   "cell_type": "code",
   "execution_count": 475,
   "metadata": {},
   "outputs": [],
   "source": [
    "# Outer merge as to preserve rows that have 0 external or 0 internal views\n",
    "\n",
    "merged_views = pd.merge(viewed_id_df, ext_viewed, on='merge_id', how='outer')\n",
    "merged_views.drop(['region', 'age_x', 'age_y'], axis=1, inplace=True)\n",
    "merged_views.rename(index=str, columns={'dummy':'internal_views', 'upv':'external_views'}, inplace=True)\n",
    "merged_views.fillna(0, inplace=True)"
   ]
  },
  {
   "cell_type": "code",
   "execution_count": 479,
   "metadata": {},
   "outputs": [],
   "source": [
    "\n",
    "pd.merge(viewed_id_df.loc[:, ['merge_id', 'dummy']], ext_viewed.loc[:, ['merge_id', 'upv']], on='merge_id', how='inner');"
   ]
  },
  {
   "cell_type": "code",
   "execution_count": 480,
   "metadata": {},
   "outputs": [
    {
     "data": {
      "text/html": [
       "<div>\n",
       "<style>\n",
       "    .dataframe thead tr:only-child th {\n",
       "        text-align: right;\n",
       "    }\n",
       "\n",
       "    .dataframe thead th {\n",
       "        text-align: left;\n",
       "    }\n",
       "\n",
       "    .dataframe tbody tr th {\n",
       "        vertical-align: top;\n",
       "    }\n",
       "</style>\n",
       "<table border=\"1\" class=\"dataframe\">\n",
       "  <thead>\n",
       "    <tr style=\"text-align: right;\">\n",
       "      <th></th>\n",
       "      <th>merge_id</th>\n",
       "      <th>internal_views</th>\n",
       "      <th>external_views</th>\n",
       "    </tr>\n",
       "  </thead>\n",
       "  <tbody>\n",
       "    <tr>\n",
       "      <th>0</th>\n",
       "      <td>10058</td>\n",
       "      <td>1.0</td>\n",
       "      <td>0.0</td>\n",
       "    </tr>\n",
       "    <tr>\n",
       "      <th>1</th>\n",
       "      <td>10103</td>\n",
       "      <td>1.0</td>\n",
       "      <td>4.0</td>\n",
       "    </tr>\n",
       "    <tr>\n",
       "      <th>2</th>\n",
       "      <td>10419</td>\n",
       "      <td>2.0</td>\n",
       "      <td>3.0</td>\n",
       "    </tr>\n",
       "    <tr>\n",
       "      <th>3</th>\n",
       "      <td>10610</td>\n",
       "      <td>1.0</td>\n",
       "      <td>1.0</td>\n",
       "    </tr>\n",
       "    <tr>\n",
       "      <th>4</th>\n",
       "      <td>10702</td>\n",
       "      <td>1.0</td>\n",
       "      <td>0.0</td>\n",
       "    </tr>\n",
       "  </tbody>\n",
       "</table>\n",
       "</div>"
      ],
      "text/plain": [
       "   merge_id  internal_views  external_views\n",
       "0     10058             1.0             0.0\n",
       "1     10103             1.0             4.0\n",
       "2     10419             2.0             3.0\n",
       "3     10610             1.0             1.0\n",
       "4     10702             1.0             0.0"
      ]
     },
     "execution_count": 480,
     "metadata": {},
     "output_type": "execute_result"
    }
   ],
   "source": [
    "merged_views.head()"
   ]
  },
  {
   "cell_type": "code",
   "execution_count": 481,
   "metadata": {},
   "outputs": [
    {
     "data": {
      "text/html": [
       "<div>\n",
       "<style>\n",
       "    .dataframe thead tr:only-child th {\n",
       "        text-align: right;\n",
       "    }\n",
       "\n",
       "    .dataframe thead th {\n",
       "        text-align: left;\n",
       "    }\n",
       "\n",
       "    .dataframe tbody tr th {\n",
       "        vertical-align: top;\n",
       "    }\n",
       "</style>\n",
       "<table border=\"1\" class=\"dataframe\">\n",
       "  <thead>\n",
       "    <tr style=\"text-align: right;\">\n",
       "      <th></th>\n",
       "      <th>merge_id</th>\n",
       "      <th>internal_views</th>\n",
       "      <th>external_views</th>\n",
       "    </tr>\n",
       "  </thead>\n",
       "  <tbody>\n",
       "    <tr>\n",
       "      <th>2312</th>\n",
       "      <td>1740253</td>\n",
       "      <td>406.0</td>\n",
       "      <td>0.0</td>\n",
       "    </tr>\n",
       "    <tr>\n",
       "      <th>2897</th>\n",
       "      <td>2185215</td>\n",
       "      <td>383.0</td>\n",
       "      <td>2.0</td>\n",
       "    </tr>\n",
       "    <tr>\n",
       "      <th>3454</th>\n",
       "      <td>2632343</td>\n",
       "      <td>180.0</td>\n",
       "      <td>0.0</td>\n",
       "    </tr>\n",
       "    <tr>\n",
       "      <th>3979</th>\n",
       "      <td>3086119</td>\n",
       "      <td>88.0</td>\n",
       "      <td>0.0</td>\n",
       "    </tr>\n",
       "    <tr>\n",
       "      <th>1670</th>\n",
       "      <td>1287442</td>\n",
       "      <td>88.0</td>\n",
       "      <td>0.0</td>\n",
       "    </tr>\n",
       "    <tr>\n",
       "      <th>3224</th>\n",
       "      <td>2460133</td>\n",
       "      <td>82.0</td>\n",
       "      <td>0.0</td>\n",
       "    </tr>\n",
       "    <tr>\n",
       "      <th>1307</th>\n",
       "      <td>979614</td>\n",
       "      <td>68.0</td>\n",
       "      <td>0.0</td>\n",
       "    </tr>\n",
       "    <tr>\n",
       "      <th>302</th>\n",
       "      <td>218859</td>\n",
       "      <td>67.0</td>\n",
       "      <td>1.0</td>\n",
       "    </tr>\n",
       "    <tr>\n",
       "      <th>456</th>\n",
       "      <td>314218</td>\n",
       "      <td>61.0</td>\n",
       "      <td>0.0</td>\n",
       "    </tr>\n",
       "    <tr>\n",
       "      <th>3700</th>\n",
       "      <td>2864377</td>\n",
       "      <td>47.0</td>\n",
       "      <td>3.0</td>\n",
       "    </tr>\n",
       "  </tbody>\n",
       "</table>\n",
       "</div>"
      ],
      "text/plain": [
       "      merge_id  internal_views  external_views\n",
       "2312   1740253           406.0             0.0\n",
       "2897   2185215           383.0             2.0\n",
       "3454   2632343           180.0             0.0\n",
       "3979   3086119            88.0             0.0\n",
       "1670   1287442            88.0             0.0\n",
       "3224   2460133            82.0             0.0\n",
       "1307    979614            68.0             0.0\n",
       "302     218859            67.0             1.0\n",
       "456     314218            61.0             0.0\n",
       "3700   2864377            47.0             3.0"
      ]
     },
     "execution_count": 481,
     "metadata": {},
     "output_type": "execute_result"
    }
   ],
   "source": [
    "merged_views.sort_values(['internal_views'], ascending=False).head(10)"
   ]
  },
  {
   "cell_type": "code",
   "execution_count": 482,
   "metadata": {},
   "outputs": [
    {
     "data": {
      "text/html": [
       "<div>\n",
       "<style>\n",
       "    .dataframe thead tr:only-child th {\n",
       "        text-align: right;\n",
       "    }\n",
       "\n",
       "    .dataframe thead th {\n",
       "        text-align: left;\n",
       "    }\n",
       "\n",
       "    .dataframe tbody tr th {\n",
       "        vertical-align: top;\n",
       "    }\n",
       "</style>\n",
       "<table border=\"1\" class=\"dataframe\">\n",
       "  <thead>\n",
       "    <tr style=\"text-align: right;\">\n",
       "      <th></th>\n",
       "      <th>merge_id</th>\n",
       "      <th>internal_views</th>\n",
       "      <th>external_views</th>\n",
       "    </tr>\n",
       "  </thead>\n",
       "  <tbody>\n",
       "    <tr>\n",
       "      <th>185302</th>\n",
       "      <td>3172400</td>\n",
       "      <td>0.0</td>\n",
       "      <td>1124.0</td>\n",
       "    </tr>\n",
       "    <tr>\n",
       "      <th>169245</th>\n",
       "      <td>2871984</td>\n",
       "      <td>0.0</td>\n",
       "      <td>1124.0</td>\n",
       "    </tr>\n",
       "    <tr>\n",
       "      <th>186217</th>\n",
       "      <td>3197557</td>\n",
       "      <td>0.0</td>\n",
       "      <td>764.0</td>\n",
       "    </tr>\n",
       "    <tr>\n",
       "      <th>219656</th>\n",
       "      <td>3766973</td>\n",
       "      <td>0.0</td>\n",
       "      <td>506.0</td>\n",
       "    </tr>\n",
       "    <tr>\n",
       "      <th>174126</th>\n",
       "      <td>2960427</td>\n",
       "      <td>0.0</td>\n",
       "      <td>496.0</td>\n",
       "    </tr>\n",
       "    <tr>\n",
       "      <th>156567</th>\n",
       "      <td>2619727</td>\n",
       "      <td>0.0</td>\n",
       "      <td>431.0</td>\n",
       "    </tr>\n",
       "    <tr>\n",
       "      <th>118976</th>\n",
       "      <td>1933239</td>\n",
       "      <td>0.0</td>\n",
       "      <td>428.0</td>\n",
       "    </tr>\n",
       "    <tr>\n",
       "      <th>157530</th>\n",
       "      <td>2644348</td>\n",
       "      <td>0.0</td>\n",
       "      <td>399.0</td>\n",
       "    </tr>\n",
       "    <tr>\n",
       "      <th>138575</th>\n",
       "      <td>2297959</td>\n",
       "      <td>0.0</td>\n",
       "      <td>373.0</td>\n",
       "    </tr>\n",
       "    <tr>\n",
       "      <th>63701</th>\n",
       "      <td>999089</td>\n",
       "      <td>0.0</td>\n",
       "      <td>367.0</td>\n",
       "    </tr>\n",
       "  </tbody>\n",
       "</table>\n",
       "</div>"
      ],
      "text/plain": [
       "        merge_id  internal_views  external_views\n",
       "185302   3172400             0.0          1124.0\n",
       "169245   2871984             0.0          1124.0\n",
       "186217   3197557             0.0           764.0\n",
       "219656   3766973             0.0           506.0\n",
       "174126   2960427             0.0           496.0\n",
       "156567   2619727             0.0           431.0\n",
       "118976   1933239             0.0           428.0\n",
       "157530   2644348             0.0           399.0\n",
       "138575   2297959             0.0           373.0\n",
       "63701     999089             0.0           367.0"
      ]
     },
     "execution_count": 482,
     "metadata": {},
     "output_type": "execute_result"
    }
   ],
   "source": [
    "merged_views.sort_values(['external_views'], ascending=False).head(10)"
   ]
  },
  {
   "cell_type": "raw",
   "metadata": {},
   "source": []
  },
  {
   "cell_type": "markdown",
   "metadata": {},
   "source": [
    "# Conclusion\n",
    "### Insights\n",
    "- age has a small influence on which profiles are viewed internally\n",
    "    - slight skew towards 20-29 year old profiles when viewed from internal sources\n",
    "- region influences which profiles are viewed internally\n",
    "    - mid west and south drive more internal profile views\n",
    "- going forward\n",
    "    - look into the break down of region by age, it is likely that some regions correlate to lower age\n",
    "    \n",
    "### Analysis improvements\n",
    "- incorperate significance testing\n",
    "- analyze multi-variable data i.e. viewed profiles segmented by region and age\n",
    "\n",
    "### Code improvements\n",
    "- DRY up code\n",
    "\n"
   ]
  },
  {
   "cell_type": "code",
   "execution_count": null,
   "metadata": {},
   "outputs": [],
   "source": []
  },
  {
   "cell_type": "code",
   "execution_count": null,
   "metadata": {},
   "outputs": [],
   "source": []
  },
  {
   "cell_type": "code",
   "execution_count": null,
   "metadata": {},
   "outputs": [],
   "source": []
  }
 ],
 "metadata": {
  "kernelspec": {
   "display_name": "Python 3",
   "language": "python",
   "name": "python3"
  },
  "language_info": {
   "codemirror_mode": {
    "name": "ipython",
    "version": 3
   },
   "file_extension": ".py",
   "mimetype": "text/x-python",
   "name": "python",
   "nbconvert_exporter": "python",
   "pygments_lexer": "ipython3",
   "version": "3.4.3"
  }
 },
 "nbformat": 4,
 "nbformat_minor": 2
}
